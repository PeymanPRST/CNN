{
 "cells": [
  {
   "cell_type": "code",
   "execution_count": 5,
   "metadata": {},
   "outputs": [
    {
     "name": "stdout",
     "output_type": "stream",
     "text": [
      "1/1 [==============================] - 1s 665ms/step\n",
      "FileName: th (1).jpeg\n",
      "Crack Probability: 0.8044665455818176\n",
      "Classification: Contains crack\n",
      "Prediction completed!\n",
      "1/1 [==============================] - 0s 81ms/step\n",
      "FileName: th (2).jpeg\n",
      "Crack Probability: 0.792712390422821\n",
      "Classification: Contains crack\n",
      "Prediction completed!\n",
      "1/1 [==============================] - 0s 67ms/step\n",
      "FileName: th (3).jpeg\n",
      "Crack Probability: 0.8713865876197815\n",
      "Classification: Contains crack\n",
      "Prediction completed!\n",
      "1/1 [==============================] - 0s 67ms/step\n",
      "FileName: th (4).jpeg\n",
      "Crack Probability: 0.8312829732894897\n",
      "Classification: Contains crack\n",
      "Prediction completed!\n",
      "1/1 [==============================] - 0s 80ms/step\n",
      "FileName: th (5).jpeg\n",
      "Crack Probability: 0.7779332995414734\n",
      "Classification: Contains crack\n",
      "Prediction completed!\n",
      "1/1 [==============================] - 0s 72ms/step\n",
      "FileName: th.jpeg\n",
      "Crack Probability: 0.8291739821434021\n",
      "Classification: Contains crack\n",
      "Prediction completed!\n"
     ]
    }
   ],
   "source": [
    "import keras\n",
    "from keras.models import load_model\n",
    "from PIL import Image\n",
    "import numpy as np\n",
    "import os\n",
    "\n",
    "# Model and preprocessing parameters\n",
    "MODEL_PATH = 'C:\\\\New folder\\\\Dr. Surya\\\\Project\\\\CNN2.h5'\n",
    "TARGET_SIZE = (224,224)\n",
    "\n",
    "# Preprocess function\n",
    "def preprocess(image):\n",
    "  img = image.resize(TARGET_SIZE)\n",
    "  x = np.array(img)/255\n",
    "  x = np.expand_dims(x, axis=0)\n",
    "  return x\n",
    "\n",
    "# Load model\n",
    "model = load_model(MODEL_PATH)\n",
    "\n",
    "# Folder with test images  \n",
    "TEST_FOLDER = 'C:\\\\New folder\\\\Dr. Surya\\\\Project\\\\New folder'\n",
    "\n",
    "# Prediction threshold\n",
    "THRESHOLD = 0.5\n",
    "\n",
    "# Predict on all images in folder\n",
    "for filename in os.listdir(TEST_FOLDER):\n",
    "\n",
    "# Load and preprocess image\n",
    "  image = Image.open(os.path.join(TEST_FOLDER, filename))\n",
    "  x = preprocess(image)\n",
    "\n",
    "# Get predictions\n",
    "  predictions = model.predict(x)\n",
    "\n",
    "  crack_prob = predictions[0][1]\n",
    "\n",
    "# Classify image\n",
    "  if crack_prob > THRESHOLD:\n",
    "    classification = \"Contains crack\"\n",
    "  else: \n",
    "    classification = \"Does not contain crack\"\n",
    "\n",
    "# Print predictions  \n",
    "  print(f'FileName: {filename}')\n",
    "  print(f'Crack Probability: {crack_prob}')  \n",
    "  print(f'Classification: {classification}')\n",
    "  print('Prediction completed!')"
   ]
  }
 ],
 "metadata": {
  "kernelspec": {
   "display_name": "Python 3",
   "language": "python",
   "name": "python3"
  },
  "language_info": {
   "codemirror_mode": {
    "name": "ipython",
    "version": 3
   },
   "file_extension": ".py",
   "mimetype": "text/x-python",
   "name": "python",
   "nbconvert_exporter": "python",
   "pygments_lexer": "ipython3",
   "version": "3.11.6"
  }
 },
 "nbformat": 4,
 "nbformat_minor": 2
}
