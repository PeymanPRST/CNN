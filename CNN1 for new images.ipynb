{
 "cells": [
  {
   "cell_type": "code",
   "execution_count": 5,
   "metadata": {},
   "outputs": [
    {
     "name": "stdout",
     "output_type": "stream",
     "text": [
      "1/1 [==============================] - 0s 70ms/step\n",
      "th (1).jpeg no crack\n",
      "1/1 [==============================] - 0s 31ms/step\n",
      "th (2).jpeg no crack\n",
      "1/1 [==============================] - 0s 27ms/step\n",
      "th (3).jpeg no crack\n",
      "1/1 [==============================] - 0s 32ms/step\n",
      "th (4).jpeg no crack\n",
      "1/1 [==============================] - 0s 26ms/step\n",
      "th (5).jpeg no crack\n",
      "1/1 [==============================] - 0s 30ms/step\n",
      "th.jpeg no crack\n"
     ]
    }
   ],
   "source": [
    "import os\n",
    "from keras.models import load_model \n",
    "from PIL import Image\n",
    "import numpy as np\n",
    "\n",
    "# Load the trained model\n",
    "model = load_model('C:\\\\New folder\\\\Dr. Surya\\\\Project\\\\CNN1.h5')\n",
    "\n",
    "# Define image folder path\n",
    "image_folder = 'C:\\\\New folder\\\\Dr. Surya\\\\Project\\\\New folder/'\n",
    "\n",
    "# Loop through images in folder\n",
    "for filename in os.listdir(image_folder):\n",
    "\n",
    "  img = Image.open(os.path.join(image_folder, filename))\n",
    "  img = img.resize((224, 224))  \n",
    "  img = np.array(img)\n",
    "  img = img/255\n",
    "  img = np.expand_dims(img, axis=0)\n",
    "\n",
    "  # Predict\n",
    "  predictions = model.predict(img)\n",
    "\n",
    "  # Apply threshold\n",
    "  threshold = 0.5\n",
    "  if predictions[0][0] > threshold:\n",
    "    label = 'crack'\n",
    "  else:  \n",
    "    label = 'no crack'\n",
    "\n",
    "  print(filename, label)"
   ]
  }
 ],
 "metadata": {
  "kernelspec": {
   "display_name": "Python 3",
   "language": "python",
   "name": "python3"
  },
  "language_info": {
   "codemirror_mode": {
    "name": "ipython",
    "version": 3
   },
   "file_extension": ".py",
   "mimetype": "text/x-python",
   "name": "python",
   "nbconvert_exporter": "python",
   "pygments_lexer": "ipython3",
   "version": "3.11.6"
  }
 },
 "nbformat": 4,
 "nbformat_minor": 2
}
